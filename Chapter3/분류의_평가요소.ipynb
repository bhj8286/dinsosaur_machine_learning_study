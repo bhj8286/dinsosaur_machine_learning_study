{
  "nbformat": 4,
  "nbformat_minor": 0,
  "metadata": {
    "colab": {
      "provenance": [],
      "authorship_tag": "ABX9TyNSu+RL4Ee6mjBDNLxQMmpe",
      "include_colab_link": true
    },
    "kernelspec": {
      "name": "python3",
      "display_name": "Python 3"
    },
    "language_info": {
      "name": "python"
    }
  },
  "cells": [
    {
      "cell_type": "markdown",
      "metadata": {
        "id": "view-in-github",
        "colab_type": "text"
      },
      "source": [
        "<a href=\"https://colab.research.google.com/github/bhj8286/dinsosaur_machine_learning_study/blob/main/Chapter3/%EB%B6%84%EB%A5%98%EC%9D%98_%ED%8F%89%EA%B0%80%EC%9A%94%EC%86%8C.ipynb\" target=\"_parent\"><img src=\"https://colab.research.google.com/assets/colab-badge.svg\" alt=\"Open In Colab\"/></a>"
      ]
    },
    {
      "cell_type": "markdown",
      "source": [
        "**정확도: 실제 데이터에서 예측 데이터가 얼마나 같은지를 판단하는 지표**"
      ],
      "metadata": {
        "id": "oJNA_WpAy12g"
      }
    },
    {
      "cell_type": "markdown",
      "source": [
        "\n",
        "\n",
        "*   정밀도 = TP / (FP + TP)\n",
        "*   재현율 = TP / (FN + TP)\n",
        "\n",
        "-> 보통 재현율이 더 중요 지표 : 실제 Positive 양성 데이터를 Negative로 잘못 판단하게 되면 업무상 큰 영샹이 발생하기 때문에\n",
        "EX) 실제 Positive인 암 환자를 Positive 양성이 아닌 Negative 음성으로 잘못 판단한다면?..\n",
        "\n",
        "-> 정밀도와 재현율은 Trade-off 관계, 상호 보완적인 평가 지표라 어느 한 쪽을 강제로 높이면 다른 하나의 수치는 떨어지기 쉽다."
      ],
      "metadata": {
        "id": "R0bjpcUhy_nb"
      }
    },
    {
      "cell_type": "code",
      "source": [
        "import pandas as pd"
      ],
      "metadata": {
        "id": "WhP6MUo1de9H"
      },
      "execution_count": null,
      "outputs": []
    },
    {
      "cell_type": "markdown",
      "source": [
        "**F1 Score: 정밀도와 재현율을 결합한 지표, 정밀도와 재현율이 어느 한쪽으로 치우치지 않는 수치를 나타낼 때 상대적으로 높은 값을 가진다.**"
      ],
      "metadata": {
        "id": "mpP0bvtNCw34"
      }
    },
    {
      "cell_type": "markdown",
      "source": [
        "**ROC 곡선과 AUC: 이진 분류의 예측 성능 측정에서 중요하게 사용되는 지표,ROC 곡선은 FPR이 변할 때 TPR(재현율, 민감도)이 어떻게 변하는지를 나타내는 곡선, ROC 곡선은 가운데 직선에 가까울수록 성능이 떨어지는 것이며 멀어질수록 성능이 뛰어난 것이다. AUC값은 ROC 곡선 면적에 기반하여 결정된다. AUC값은 ROC 곡선 밑의 면적을 구한 것으로 일반적으로 1에 가까울수록 좋은 수치이다. 보통 AUC값은 0.5이상이다.**"
      ],
      "metadata": {
        "id": "0nNxJ4cFEDOm"
      }
    },
    {
      "cell_type": "code",
      "execution_count": null,
      "metadata": {
        "id": "QNZaxu_AyPQM"
      },
      "outputs": [],
      "source": []
    }
  ]
}
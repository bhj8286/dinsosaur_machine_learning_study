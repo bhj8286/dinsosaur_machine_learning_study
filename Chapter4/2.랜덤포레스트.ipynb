{
  "nbformat": 4,
  "nbformat_minor": 0,
  "metadata": {
    "colab": {
      "provenance": [],
      "authorship_tag": "ABX9TyNC4ZfsvjV2pSqRsaiMsveC",
      "include_colab_link": true
    },
    "kernelspec": {
      "name": "python3",
      "display_name": "Python 3"
    },
    "language_info": {
      "name": "python"
    }
  },
  "cells": [
    {
      "cell_type": "markdown",
      "metadata": {
        "id": "view-in-github",
        "colab_type": "text"
      },
      "source": [
        "<a href=\"https://colab.research.google.com/github/bhj8286/dinsosaur_machine_learning_study/blob/main/Chapter4/2.%EB%9E%9C%EB%8D%A4%ED%8F%AC%EB%A0%88%EC%8A%A4%ED%8A%B8.ipynb\" target=\"_parent\"><img src=\"https://colab.research.google.com/assets/colab-badge.svg\" alt=\"Open In Colab\"/></a>"
      ]
    },
    {
      "cell_type": "markdown",
      "source": [
        "랜덤포레스트: **비교적 빠른 수행 속도**, 다양한 영역에서 높은 예측 성능, 쉽고 직관적\n",
        "굳이 단점: 하이퍼 파라미터가 너무 많고 이로 인해 튜닝 위한 시간이 많이 소모됨"
      ],
      "metadata": {
        "id": "Q7-quWS95WsV"
      }
    },
    {
      "cell_type": "code",
      "source": [
        "import pandas as pd\n",
        "import numpy as np\n",
        "import pandas as pd\n",
        "import matplotlib.pyplot as plt\n",
        "import seaborn as sns\n",
        "%matplotlib inline\n",
        "\n",
        "# 구글드라이브 마운트\n",
        "from google.colab import drive\n",
        "drive.mount('/content/drive')\n",
        "\n",
        "# 작업 경로 변경\n",
        "%cd /content/drive/MyDrive/my/dinosaur\n"
      ],
      "metadata": {
        "colab": {
          "base_uri": "https://localhost:8080/"
        },
        "id": "Lxij8YMOAKVL",
        "outputId": "91149637-ec9e-4cd3-a1d0-334e25d31411"
      },
      "execution_count": null,
      "outputs": [
        {
          "output_type": "stream",
          "name": "stdout",
          "text": [
            "Drive already mounted at /content/drive; to attempt to forcibly remount, call drive.mount(\"/content/drive\", force_remount=True).\n",
            "/content/drive/MyDrive/my/dinosaur\n"
          ]
        }
      ]
    },
    {
      "cell_type": "code",
      "source": [
        "def get_new_feature_name_df(old_feature_name_df):\n",
        "    feature_dup_df = pd.DataFrame(data=old_feature_name_df.groupby('column_name').cumcount(),\n",
        "                                  columns=['dup_cnt'])\n",
        "    feature_dup_df = feature_dup_df.reset_index()\n",
        "    new_feature_name_df = pd.merge(old_feature_name_df.reset_index(), feature_dup_df, how='outer')\n",
        "    new_feature_name_df['column_name'] = new_feature_name_df[['column_name', 'dup_cnt']].apply(lambda x : x[0]+'_'+str(x[1])\n",
        "                                                                                         if x[1] >0 else x[0] ,  axis=1)\n",
        "    new_feature_name_df = new_feature_name_df.drop(['index'], axis=1)\n",
        "    return new_feature_name_df"
      ],
      "metadata": {
        "id": "uLp3pEQBAH_Z"
      },
      "execution_count": null,
      "outputs": []
    },
    {
      "cell_type": "code",
      "source": [
        "\n",
        "def get_human_dataset( ):\n",
        "\n",
        "    # 각 데이터 파일들은 공백으로 분리되어 있으므로 read_csv에서 공백 문자를 sep으로 할당.\n",
        "    feature_name_df = pd.read_csv('human_activity/features.txt',sep='\\s+',\n",
        "                        header=None,names=['column_index','column_name'])\n",
        "\n",
        "    # 중복된 피처명을 수정하는 get_new_feature_name_df()를 이용, 신규 피처명 DataFrame생성.\n",
        "    new_feature_name_df = get_new_feature_name_df(feature_name_df)\n",
        "\n",
        "    # DataFrame에 피처명을 컬럼으로 부여하기 위해 리스트 객체로 다시 변환\n",
        "    feature_name = new_feature_name_df.iloc[:, 1].values.tolist()\n",
        "\n",
        "    # 학습 피처 데이터 셋과 테스트 피처 데이터을 DataFrame으로 로딩. 컬럼명은 feature_name 적용\n",
        "    X_train = pd.read_csv('human_activity/train/X_train.txt',sep='\\s+', names=feature_name )\n",
        "    X_test = pd.read_csv('human_activity/test/X_test.txt',sep='\\s+', names=feature_name)\n",
        "\n",
        "    # 학습 레이블과 테스트 레이블 데이터을 DataFrame으로 로딩하고 컬럼명은 action으로 부여\n",
        "    y_train = pd.read_csv('human_activity/train/y_train.txt',sep='\\s+',header=None,names=['action'])\n",
        "    y_test = pd.read_csv('human_activity/test/y_test.txt',sep='\\s+',header=None,names=['action'])\n",
        "\n",
        "    # 로드된 학습/테스트용 DataFrame을 모두 반환\n",
        "    return X_train, X_test, y_train, y_test\n",
        "\n",
        "\n",
        "X_train, X_test, y_train, y_test = get_human_dataset()"
      ],
      "metadata": {
        "id": "KPFSwaCs_x9R"
      },
      "execution_count": null,
      "outputs": []
    },
    {
      "cell_type": "code",
      "source": [
        "from sklearn.ensemble import RandomForestClassifier\n",
        "from sklearn.metrics import accuracy_score\n",
        "import pandas as pd\n",
        "import warnings\n",
        "warnings.filterwarnings('ignore')\n",
        "\n",
        "# 원본 데이터를 재로딩, 데이터 가공, 학습데이터/테스트 데이터 분할\n",
        "X_train, X_test, y_train, y_test = get_human_dataset()\n",
        "\n",
        "rf_clf = RandomForestClassifier(random_state=0)\n",
        "rf_clf.fit(X_train, y_train)\n",
        "pred = rf_clf.predict(X_test)\n",
        "accuracy = accuracy_score(y_test, pred)\n",
        "print('랜덤 포레스트 정확도: {0:.4f}'.format(accuracy))"
      ],
      "metadata": {
        "colab": {
          "base_uri": "https://localhost:8080/"
        },
        "id": "N1gYM-RZ9pOO",
        "outputId": "30a6944a-ab8b-45f6-950b-51a5d213bb5a"
      },
      "execution_count": null,
      "outputs": [
        {
          "output_type": "stream",
          "name": "stdout",
          "text": [
            "랜덤 포레스트 정확도: 0.9223\n"
          ]
        }
      ]
    },
    {
      "cell_type": "code",
      "execution_count": null,
      "metadata": {
        "colab": {
          "base_uri": "https://localhost:8080/"
        },
        "id": "ETaa-VA_5Oxm",
        "outputId": "a315dfae-26fb-4454-f48c-812b766b7e5f"
      },
      "outputs": [
        {
          "output_type": "stream",
          "name": "stdout",
          "text": [
            "최적 하이퍼 파라미터:\n",
            " {'max_depth': 10, 'min_samples_leaf': 8, 'n_estimators': 100}\n",
            "최고 예측 정확도: 0.9178\n"
          ]
        }
      ],
      "source": [
        "#  GridSearchCV 이용 랜덤 포레스트 하이퍼 파라미터 튜닝\n",
        "from sklearn.ensemble import RandomForestClassifier\n",
        "import pandas as pd\n",
        "from sklearn.model_selection import GridSearchCV\n",
        "\n",
        "params = { 'n_estimators' : [100],\n",
        "           'max_depth' : [6, 8, 10, 12],\n",
        "           'min_samples_leaf' : [2,8,16]\n",
        "}\n",
        "\n",
        "# RandomForestClassifier 객체 생성 후 GridSearchCV 수행\n",
        "rf_clf = RandomForestClassifier(random_state=0, n_jobs=-1)\n",
        "grid_cv = GridSearchCV(rf_clf, param_grid=params, cv=2, n_jobs=-1)\n",
        "grid_cv.fit(X_train, y_train)\n",
        "\n",
        "print('최적 하이퍼 파라미터:\\n', grid_cv.best_params_)\n",
        "print('최고 예측 정확도: {0:.4f}'.format(grid_cv.best_score_))"
      ]
    },
    {
      "cell_type": "code",
      "source": [],
      "metadata": {
        "id": "HJt3SgCu9M0t"
      },
      "execution_count": null,
      "outputs": []
    }
  ]
}
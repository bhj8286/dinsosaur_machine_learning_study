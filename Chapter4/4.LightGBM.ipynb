{
  "nbformat": 4,
  "nbformat_minor": 0,
  "metadata": {
    "colab": {
      "provenance": [],
      "authorship_tag": "ABX9TyNm+Wv1mFUsl3D9IOTJ2DhK",
      "include_colab_link": true
    },
    "kernelspec": {
      "name": "python3",
      "display_name": "Python 3"
    },
    "language_info": {
      "name": "python"
    }
  },
  "cells": [
    {
      "cell_type": "markdown",
      "metadata": {
        "id": "view-in-github",
        "colab_type": "text"
      },
      "source": [
        "<a href=\"https://colab.research.google.com/github/bhj8286/dinsosaur_machine_learning_study/blob/main/Chapter4/4.LightGBM.ipynb\" target=\"_parent\"><img src=\"https://colab.research.google.com/assets/colab-badge.svg\" alt=\"Open In Colab\"/></a>"
      ]
    },
    {
      "cell_type": "markdown",
      "source": [
        "**LightGBM: XGBoost보다 학습에 걸리는 시간이 훨씬 적다. 또한 메모리 사용량도 적다(Light는 이러한 장점때문에 붙여진 듯), XGBoost와 예측 성능은 별다른 차이가 없다. 오히려 기능상의 다양성은 약간 더 많다, 카테고리형 피처의 자동변환과 최적분할(원-핫 인코딩을 사용하지 않고도 카테고리형 피처를 최적으로 변환하고 이에 따른 노드 분할 수행)**\n",
        "\n",
        "**단점: 적은 데이터 세트에 적요할 경우 과적합이 발생하기 쉽다**"
      ],
      "metadata": {
        "id": "F8Ln7RLXamc5"
      }
    },
    {
      "cell_type": "code",
      "execution_count": 2,
      "metadata": {
        "id": "vEy_t1KlaQcN"
      },
      "outputs": [],
      "source": []
    },
    {
      "cell_type": "code",
      "source": [],
      "metadata": {
        "id": "PN4XgnG4cKmy"
      },
      "execution_count": null,
      "outputs": []
    }
  ]
}
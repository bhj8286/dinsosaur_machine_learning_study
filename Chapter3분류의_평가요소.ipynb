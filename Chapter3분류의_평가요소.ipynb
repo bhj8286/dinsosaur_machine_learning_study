{
  "nbformat": 4,
  "nbformat_minor": 0,
  "metadata": {
    "colab": {
      "provenance": [],
      "authorship_tag": "ABX9TyMBz4F8mW1AK//3yyFHcT3p",
      "include_colab_link": true
    },
    "kernelspec": {
      "name": "python3",
      "display_name": "Python 3"
    },
    "language_info": {
      "name": "python"
    }
  },
  "cells": [
    {
      "cell_type": "markdown",
      "metadata": {
        "id": "view-in-github",
        "colab_type": "text"
      },
      "source": [
        "<a href=\"https://colab.research.google.com/github/bhj8286/dinsosaur_machine_learning_study/blob/main/Chapter3%EB%B6%84%EB%A5%98%EC%9D%98_%ED%8F%89%EA%B0%80%EC%9A%94%EC%86%8C.ipynb\" target=\"_parent\"><img src=\"https://colab.research.google.com/assets/colab-badge.svg\" alt=\"Open In Colab\"/></a>"
      ]
    },
    {
      "cell_type": "markdown",
      "source": [
        "**정확도: 실제 데이터에서 예측 데이터가 얼마나 같은지를 판단하는 지표**"
      ],
      "metadata": {
        "id": "oJNA_WpAy12g"
      }
    },
    {
      "cell_type": "markdown",
      "source": [
        "\n",
        "\n",
        "*   정밀도 = TP / (FP + TP)\n",
        "*   재현율 = TP / (FN + TP)\n",
        "\n",
        "-> 보통 재현율이 더 중요 지표 : 실제 Positive 양성 데이터를 Negative로 잘못 판단하게 되면 업무상 큰 영샹이 발생하기 때문에\n",
        "EX) 실제 Positive인 암 환자를 Positive 양성이 아닌 Negative 음성으로 잘못 판단한다면?..\n",
        "\n",
        "-> 정밀도와 재현율은 Trade-off 관계, 상호 보완적인 평가 지표라 어느 한 쪽을 강제로 높이면 다른 하나의 수치는 떨어지기 쉽다."
      ],
      "metadata": {
        "id": "R0bjpcUhy_nb"
      }
    },
    {
      "cell_type": "code",
      "source": [
        "import pandas as pd"
      ],
      "metadata": {
        "id": "WhP6MUo1de9H"
      },
      "execution_count": 1,
      "outputs": []
    },
    {
      "cell_type": "code",
      "execution_count": null,
      "metadata": {
        "id": "QNZaxu_AyPQM"
      },
      "outputs": [],
      "source": []
    }
  ]
}